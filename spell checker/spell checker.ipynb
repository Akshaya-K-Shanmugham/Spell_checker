{
 "cells": [
  {
   "cell_type": "code",
   "execution_count": 2,
   "metadata": {},
   "outputs": [
    {
     "name": "stdout",
     "output_type": "stream",
     "text": [
      "Defaulting to user installation because normal site-packages is not writeable\n",
      "Collecting textblob\n",
      "  Downloading textblob-0.18.0.post0-py3-none-any.whl.metadata (4.5 kB)\n",
      "Requirement already satisfied: nltk>=3.8 in c:\\users\\lenovo\\appdata\\roaming\\python\\python313\\site-packages (from textblob) (3.9.1)\n",
      "Requirement already satisfied: click in c:\\users\\lenovo\\appdata\\roaming\\python\\python313\\site-packages (from nltk>=3.8->textblob) (8.1.7)\n",
      "Requirement already satisfied: joblib in c:\\users\\lenovo\\appdata\\roaming\\python\\python313\\site-packages (from nltk>=3.8->textblob) (1.4.2)\n",
      "Requirement already satisfied: regex>=2021.8.3 in c:\\users\\lenovo\\appdata\\roaming\\python\\python313\\site-packages (from nltk>=3.8->textblob) (2024.11.6)\n",
      "Requirement already satisfied: tqdm in c:\\users\\lenovo\\appdata\\roaming\\python\\python313\\site-packages (from nltk>=3.8->textblob) (4.67.0)\n",
      "Requirement already satisfied: colorama in c:\\users\\lenovo\\appdata\\roaming\\python\\python313\\site-packages (from click->nltk>=3.8->textblob) (0.4.6)\n",
      "Downloading textblob-0.18.0.post0-py3-none-any.whl (626 kB)\n",
      "   ---------------------------------------- 0.0/626.3 kB ? eta -:--:--\n",
      "   --------------------------------- ------ 524.3/626.3 kB 6.9 MB/s eta 0:00:01\n",
      "   ---------------------------------------- 626.3/626.3 kB 2.4 MB/s eta 0:00:00\n",
      "Installing collected packages: textblob\n",
      "Successfully installed textblob-0.18.0.post0\n"
     ]
    }
   ],
   "source": [
    "!pip install textblob\n"
   ]
  },
  {
   "cell_type": "code",
   "execution_count": 5,
   "metadata": {},
   "outputs": [
    {
     "name": "stdout",
     "output_type": "stream",
     "text": [
      "Wrong words : ['Artifcial', 'Inteligence']\n",
      "Corrected Words are :\n",
      "Artificial Intelligence "
     ]
    }
   ],
   "source": [
    "from textblob import TextBlob\n",
    "words = [\"Artifcial\", \"Inteligence\"]\n",
    "corrected_words = []\n",
    "for i in words:\n",
    "    corrected_words.append(TextBlob(i))\n",
    "print(\"Wrong words :\", words)\n",
    "print(\"Corrected Words are :\")\n",
    "for i in corrected_words:\n",
    "    print(i.correct(), end=\" \")"
   ]
  },
  {
   "cell_type": "code",
   "execution_count": null,
   "metadata": {},
   "outputs": [
    {
     "name": "stdout",
     "output_type": "stream",
     "text": [
      "Original Words:  ['sucess', 'Learnin', 'Exampel', 'Pythin', 'fial', 'Recieve', 'Definately']\n",
      "Corrected Words:  ['success', 'learning', 'example', 'python', 'final', 'receive', 'definitely']\n"
     ]
    }
   ],
   "source": [
    "from spellchecker import SpellChecker\n",
    "\n",
    "words = [\"sucess\", \"Learnin\", \"Exampel\", \"Pythin\", \"fial\", \"Recieve\", \"Definately\"]\n",
    "\n",
    "def correct_spelling(words):\n",
    "    spell = SpellChecker()\n",
    "    corrected_words = []\n",
    "\n",
    "   \n",
    "    for word in words:\n",
    "        \n",
    "        corrected_word = spell.correction(word)\n",
    "        corrected_words.append(corrected_word)\n",
    "\n",
    "    return corrected_words\n",
    "\n",
    "\n",
    "corrected_words = correct_spelling(words)\n",
    "e\n",
    "print(\"Original Words: \", words)\n",
    "print(\"Corrected Words: \", corrected_words)\n"
   ]
  },
  {
   "cell_type": "code",
   "execution_count": null,
   "metadata": {},
   "outputs": [
    {
     "name": "stdout",
     "output_type": "stream",
     "text": [
      "Next-based programming languages differ from vital-based (or block) programming in that they require you to write (and understand) lines of code, rather than simply dragging and dropping blocks to create your program. The best-known, text-based coming languages, are Python, A, CSS/HTML, JavaScript, Swift, ant Ruby\n"
     ]
    }
   ],
   "source": [
    "from textblob import TextBlob\n",
    "\n",
    "\n",
    "def correct_spelling(words):\n",
    "    corrected_words = [str(TextBlob(word).correct()) for word in words]\n",
    "    return corrected_words\n",
    "\n",
    "sentence = \"Next-based programming languages differ from vital-based (or block) programming in that they require you to write (and understand) lines of code, rather than simply dragging and dropping blocks to create your program. The best-known, text-based coming languages, are Python, Va, CSS/HTML, JavaScript, Swift, ant Ruby\"\n",
    "\n",
    "words = sentence.split()\n",
    "\n",
    "\n",
    "corrected_words = correct_spelling(words)\n",
    "\n",
    "\n",
    "corrected_sentence = \" \".join(corrected_words)\n",
    "\n",
    "\n",
    "print(corrected_sentence)\n"
   ]
  },
  {
   "cell_type": "code",
   "execution_count": null,
   "metadata": {},
   "outputs": [
    {
     "name": "stdout",
     "output_type": "stream",
     "text": [
      "Next-based programming languages differ from vital-based (or block) programming in that they require you to write (and understand) lines of code, rather than simply dragging and dropping blocks to create your program. The best-known, text-based coming languages, are Python, Va, CSS/HTML, JavaScript, Swift, ant Ruby.\n"
     ]
    }
   ],
   "source": [
    "from textblob import TextBlob\n",
    "\n",
    "def correct_spelling_from_file(file_path):\n",
    "    with open(file_path, 'r') as file:\n",
    "    \n",
    "        text = file.read()\n",
    "    \n",
    "  \n",
    "    blob = TextBlob(text)\n",
    "    \n",
    "    \n",
    "    corrected_text = blob.correct()\n",
    "    \n",
    "    \n",
    "    return str(corrected_text)\n",
    "\n",
    "\n",
    "file_path = \"C:/Users/LENOVO/Downloads/text.txt\"  # Specify your file path\n",
    "corrected_text = correct_spelling_from_file(file_path)\n",
    "\n",
    "\n",
    "print(corrected_text)\n"
   ]
  }
 ],
 "metadata": {
  "kernelspec": {
   "display_name": "Python 3",
   "language": "python",
   "name": "python3"
  },
  "language_info": {
   "codemirror_mode": {
    "name": "ipython",
    "version": 3
   },
   "file_extension": ".py",
   "mimetype": "text/x-python",
   "name": "python",
   "nbconvert_exporter": "python",
   "pygments_lexer": "ipython3",
   "version": "3.13.0"
  }
 },
 "nbformat": 4,
 "nbformat_minor": 2
}
